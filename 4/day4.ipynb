{
 "cells": [
  {
   "cell_type": "code",
   "execution_count": 45,
   "id": "fad7c149-d8f0-4e94-bf9f-ebda112c540b",
   "metadata": {},
   "outputs": [],
   "source": [
    "import copy"
   ]
  },
  {
   "cell_type": "code",
   "execution_count": 41,
   "id": "d050354e-4c69-4d95-a408-671e4a3cb42b",
   "metadata": {},
   "outputs": [],
   "source": [
    "def bingo(cardsChecked):\n",
    "    ret = -1\n",
    "    for i in range(0, len(cardsChecked)):\n",
    "        for j in range(0, len(cardsChecked[i])):\n",
    "            # check row\n",
    "            if ( cardsChecked[i][j][0] and cardsChecked[i][j][1] and cardsChecked[i][j][2] and cardsChecked[i][j][3] and cardsChecked[i][j][4] ):\n",
    "                return i\n",
    "            for k in range(0, len(cardsChecked[i][j])):\n",
    "                if ( cardsChecked[i][0][k] and cardsChecked[i][1][k] and cardsChecked[i][2][k] and cardsChecked[i][3][k] and cardsChecked[i][4][k] ):\n",
    "                    return i\n",
    "    return -1"
   ]
  },
  {
   "cell_type": "code",
   "execution_count": 42,
   "id": "91e42ae7-c267-4c57-a66c-6f01690cd2ef",
   "metadata": {},
   "outputs": [],
   "source": [
    "def callNumber(cards, cardsChecked, number):\n",
    "    for i in range(0, len(cardsChecked)):\n",
    "        for j in range(0, len(cardsChecked[i])):\n",
    "            for k in range(0, len(cardsChecked[i][j])):\n",
    "                if ( cards[i][j][k] == number ):\n",
    "                    cardsChecked[i][j][k] = True"
   ]
  },
  {
   "cell_type": "code",
   "execution_count": 55,
   "id": "011e661c-fdd7-4359-bf20-5ccf64d49c91",
   "metadata": {},
   "outputs": [],
   "source": [
    "def sumOfUnchecked(card, cardChecked):\n",
    "    sum = 0\n",
    "    for row in range(0, len(card)):\n",
    "        for col in range(0, len(card[row])):\n",
    "            if ( not cardChecked[row][col] ):\n",
    "                sum += int(card[row][col])\n",
    "    return sum"
   ]
  },
  {
   "cell_type": "code",
   "execution_count": 69,
   "id": "3b67d474-b15c-4129-b460-911be9b45e5e",
   "metadata": {},
   "outputs": [
    {
     "name": "stdout",
     "output_type": "stream",
     "text": [
      "35670\n",
      "22704\n"
     ]
    }
   ],
   "source": [
    "with open('data.txt') as f:\n",
    "    data = f.readlines()\n",
    "    numbers = data.pop(0).split(',')\n",
    "    numbers[len(numbers) - 1] = numbers[len(numbers) - 1][0:2]\n",
    "    data.pop(0)\n",
    "    # Populate list of bingo cards\n",
    "    cards = []\n",
    "    card = []\n",
    "    while len(data) > 0:\n",
    "        line = data.pop(0)\n",
    "        if ( line == '\\n' ):\n",
    "            cards.append( card )\n",
    "            card = []\n",
    "        else:\n",
    "            card.append(line.split())\n",
    "    # Make a list of bools for each card that shows what spots have been called\n",
    "    cardsChecked = copy.deepcopy(cards)\n",
    "    for i in range(0, len(cardsChecked)):\n",
    "        for j in range(0, len(cardsChecked[i])):\n",
    "            for k in range(0, len(cardsChecked[i][j])):\n",
    "                cardsChecked[i][j][k] = False\n",
    "    # Find first winner\n",
    "    index = -1\n",
    "    winningNum = 0\n",
    "    for number in numbers:\n",
    "        callNumber(cards, cardsChecked, number)\n",
    "        index = bingo(cardsChecked)\n",
    "        if ( index != -1 ):\n",
    "            winningNum = number\n",
    "            break\n",
    "    sum = sumOfUnchecked(cards[index], cardsChecked[index])\n",
    "    print(sum * int(winningNum))\n",
    "    # Part 2, last to win\n",
    "    index = -1\n",
    "    winningNum = 0\n",
    "    winningCard = []\n",
    "    winningCardChecked = []\n",
    "    for number in numbers:\n",
    "        callNumber(cards, cardsChecked, number)\n",
    "        index = bingo(cardsChecked)\n",
    "        if ( index != -1 ):\n",
    "            if ( len(cards) == 1 ):\n",
    "                winningNum = number\n",
    "                winningCard = cards.pop(0)\n",
    "                winningCardChecked = cardsChecked.pop(0)\n",
    "                break\n",
    "            cards.pop(index)\n",
    "            cardsChecked.pop(index)\n",
    "            winners = True\n",
    "            while winners:\n",
    "                index = bingo(cardsChecked)\n",
    "                if ( index == -1 ):\n",
    "                    winners = False\n",
    "                else:\n",
    "                    cards.pop(index)\n",
    "                    cardsChecked.pop(index)\n",
    "    sum = sumOfUnchecked(winningCard, winningCardChecked)\n",
    "    print(sum * int(winningNum))\n",
    "    "
   ]
  },
  {
   "cell_type": "code",
   "execution_count": null,
   "id": "b8822f99-eca3-46d0-ba0e-1dfca0f826ea",
   "metadata": {},
   "outputs": [],
   "source": []
  }
 ],
 "metadata": {
  "kernelspec": {
   "display_name": "Python 3 (ipykernel)",
   "language": "python",
   "name": "python3"
  },
  "language_info": {
   "codemirror_mode": {
    "name": "ipython",
    "version": 3
   },
   "file_extension": ".py",
   "mimetype": "text/x-python",
   "name": "python",
   "nbconvert_exporter": "python",
   "pygments_lexer": "ipython3",
   "version": "3.7.5"
  }
 },
 "nbformat": 4,
 "nbformat_minor": 5
}
