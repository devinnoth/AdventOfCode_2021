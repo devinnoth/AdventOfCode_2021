{
 "cells": [
  {
   "cell_type": "code",
   "execution_count": 6,
   "id": "ae5e476d-1053-4b02-94be-38eae40a6615",
   "metadata": {},
   "outputs": [],
   "source": [
    "def getPos1(directions):\n",
    "    horiz = 0\n",
    "    depth = 0\n",
    "    for i in range( 0, len(directions) ):\n",
    "        splitDirections = directions[i].split(' ')\n",
    "        if ( splitDirections[0] == 'forward' ):\n",
    "            horiz += int(splitDirections[1])\n",
    "        if ( splitDirections[0] == 'down' ):\n",
    "            depth += int(splitDirections[1])\n",
    "        if ( splitDirections[0] == 'up' ):\n",
    "            depth -= int(splitDirections[1])\n",
    "    return horiz * depth"
   ]
  },
  {
   "cell_type": "code",
   "execution_count": 7,
   "id": "9ab84642-cd4e-4e10-9b81-4a4f55761c4d",
   "metadata": {},
   "outputs": [],
   "source": [
    "def getPos2(directions):\n",
    "    aim = 0\n",
    "    horiz = 0\n",
    "    depth = 0\n",
    "    for i in range( 0, len(directions) ):\n",
    "        splitDirections = directions[i].split(' ')\n",
    "        if ( splitDirections[0] == 'forward' ):\n",
    "            horiz += int(splitDirections[1])\n",
    "            depth += aim * int(splitDirections[1])\n",
    "        if ( splitDirections[0] == 'down' ):\n",
    "            aim += int(splitDirections[1])\n",
    "        if ( splitDirections[0] == 'up' ):\n",
    "            aim -= int(splitDirections[1])\n",
    "    return horiz * depth"
   ]
  },
  {
   "cell_type": "code",
   "execution_count": 8,
   "id": "f72c9b4d-fe61-4049-93c4-0589a1f7325c",
   "metadata": {},
   "outputs": [
    {
     "name": "stdout",
     "output_type": "stream",
     "text": [
      "1692075\n",
      "1749524700\n"
     ]
    }
   ],
   "source": [
    "with open('data.txt') as f:\n",
    "    data = f.readlines()\n",
    "    count1 = getPos1(data)\n",
    "    count2 = getPos2(data)\n",
    "    print(count1)\n",
    "    print(count2)"
   ]
  },
  {
   "cell_type": "code",
   "execution_count": null,
   "id": "8858c4fe-1046-414b-9c09-c6bc3d366f7c",
   "metadata": {},
   "outputs": [],
   "source": []
  }
 ],
 "metadata": {
  "kernelspec": {
   "display_name": "Python 3 (ipykernel)",
   "language": "python",
   "name": "python3"
  },
  "language_info": {
   "codemirror_mode": {
    "name": "ipython",
    "version": 3
   },
   "file_extension": ".py",
   "mimetype": "text/x-python",
   "name": "python",
   "nbconvert_exporter": "python",
   "pygments_lexer": "ipython3",
   "version": "3.7.5"
  }
 },
 "nbformat": 4,
 "nbformat_minor": 5
}
