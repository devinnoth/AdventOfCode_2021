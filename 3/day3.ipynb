{
 "cells": [
  {
   "cell_type": "code",
   "execution_count": 14,
   "id": "10d66584-d917-429a-91cc-d637f09a5a52",
   "metadata": {},
   "outputs": [],
   "source": [
    "def getCounts(data):\n",
    "    counts = [0] * (len(data[0]) - 1)\n",
    "    for i in range( 0, len(data) ):\n",
    "        for j in range( 0, len(data[i]) - 1):\n",
    "            if ( data[i][j] == '1' ):\n",
    "                counts[j] += 1\n",
    "            else:\n",
    "                counts[j] -= 1\n",
    "    return counts"
   ]
  },
  {
   "cell_type": "code",
   "execution_count": 54,
   "id": "b86db04f-b51c-4571-bb03-f0ed130192d1",
   "metadata": {},
   "outputs": [],
   "source": [
    "def getLifeSupportRating(data):\n",
    "    ogrList = data[:]\n",
    "    co2sList = data[:]\n",
    "    i = 0\n",
    "    while len(ogrList) > 1:\n",
    "        counts = getCounts(ogrList)\n",
    "        tester = '0'\n",
    "        if ( counts[i] >= 0 ):\n",
    "            tester = '1'\n",
    "        dummyList = ogrList[:]\n",
    "        for binary in dummyList:\n",
    "            if ( binary[i] != tester ):\n",
    "                ogrList.remove(binary)\n",
    "        i += 1;\n",
    "    \n",
    "    i = 0\n",
    "    while len(co2sList) > 1:\n",
    "        counts = getCounts(co2sList)\n",
    "        tester = '1'\n",
    "        if ( counts[i] >= 0 ):\n",
    "            tester = '0'\n",
    "        dummyList = co2sList[:]\n",
    "        for binary in dummyList:\n",
    "            if ( binary[i] != tester ):\n",
    "                co2sList.remove(binary)\n",
    "        i += 1;\n",
    "        \n",
    "    ogr = ogrList.pop(0)\n",
    "    co2s = co2sList.pop(0)\n",
    "    print(ogr)\n",
    "    print(co2s)\n",
    "    ogrDec = int(ogr, 2)\n",
    "    co2sDec = int(co2s, 2)\n",
    "    return ogrDec * co2sDec"
   ]
  },
  {
   "cell_type": "code",
   "execution_count": 55,
   "id": "96f59a50-e619-428b-8863-8dbf52619a70",
   "metadata": {},
   "outputs": [
    {
     "name": "stdout",
     "output_type": "stream",
     "text": [
      "1307354\n",
      "000001111101\n",
      "\n",
      "111100010100\n",
      "\n",
      "482500\n"
     ]
    }
   ],
   "source": [
    "with open('data.txt') as f:\n",
    "    # Part 1\n",
    "    data = f.readlines()\n",
    "    counts = getCounts(data)\n",
    "    gamma = ''\n",
    "    epsilon = ''\n",
    "    for i in range(0, len(counts)):\n",
    "        if ( counts[i] > 0 ):\n",
    "            gamma += '1'\n",
    "            epsilon += '0'\n",
    "        else:\n",
    "            gamma += '0'\n",
    "            epsilon += '1'\n",
    "    gammaDec = int(gamma, 2)\n",
    "    epsilonDec = int(epsilon, 2)\n",
    "    print( gammaDec * epsilonDec)\n",
    "    # Part 2\n",
    "    lifeSupportRating = getLifeSupportRating(data)\n",
    "    print(lifeSupportRating)\n",
    "    "
   ]
  },
  {
   "cell_type": "code",
   "execution_count": null,
   "id": "1502827c-5a36-45f6-b49b-8c67d2451aca",
   "metadata": {},
   "outputs": [],
   "source": []
  }
 ],
 "metadata": {
  "kernelspec": {
   "display_name": "Python 3 (ipykernel)",
   "language": "python",
   "name": "python3"
  },
  "language_info": {
   "codemirror_mode": {
    "name": "ipython",
    "version": 3
   },
   "file_extension": ".py",
   "mimetype": "text/x-python",
   "name": "python",
   "nbconvert_exporter": "python",
   "pygments_lexer": "ipython3",
   "version": "3.7.5"
  }
 },
 "nbformat": 4,
 "nbformat_minor": 5
}
