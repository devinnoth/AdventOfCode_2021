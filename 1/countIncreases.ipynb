{
 "cells": [
  {
   "cell_type": "code",
   "execution_count": 5,
   "id": "f187d871-2665-4ea8-b6be-3208a33d4543",
   "metadata": {},
   "outputs": [],
   "source": [
    "def countIncreases( numList ):\n",
    "    count = 0\n",
    "    for index in range(1, len(numList)):\n",
    "        dif = numList[index] - numList[index - 1];\n",
    "        if ( dif > 0 ):\n",
    "            count += 1\n",
    "    return count"
   ]
  },
  {
   "cell_type": "code",
   "execution_count": 9,
   "id": "173e1021-2bd1-4355-b268-7bb7e458c3b5",
   "metadata": {},
   "outputs": [],
   "source": [
    "def numListToThreeMeasurement( numList ):\n",
    "    threeMeasurementList = []\n",
    "    for index in range( 0, len(numList) - 2 ):\n",
    "        sum = numList[index] + numList[index + 1] + numList[index + 2]\n",
    "        threeMeasurementList.append( sum )\n",
    "    return threeMeasurementList"
   ]
  },
  {
   "cell_type": "code",
   "execution_count": 10,
   "id": "03b764a4-5a7a-425e-9e05-2bf090130388",
   "metadata": {},
   "outputs": [
    {
     "name": "stdout",
     "output_type": "stream",
     "text": [
      "1393\n",
      "1359\n"
     ]
    }
   ],
   "source": [
    "with open( 'data.txt' ) as f:\n",
    "    data = f.readlines()\n",
    "    numList = list(map(int, data))\n",
    "    count1 = countIncreases( numList )\n",
    "    count2 = countIncreases( numListToThreeMeasurement( numList ) )\n",
    "    print(count1)\n",
    "    print(count2)"
   ]
  },
  {
   "cell_type": "code",
   "execution_count": null,
   "id": "40c1f52c-eb55-464b-bdc8-5210616a4957",
   "metadata": {},
   "outputs": [],
   "source": []
  }
 ],
 "metadata": {
  "kernelspec": {
   "display_name": "Python 3 (ipykernel)",
   "language": "python",
   "name": "python3"
  },
  "language_info": {
   "codemirror_mode": {
    "name": "ipython",
    "version": 3
   },
   "file_extension": ".py",
   "mimetype": "text/x-python",
   "name": "python",
   "nbconvert_exporter": "python",
   "pygments_lexer": "ipython3",
   "version": "3.7.5"
  }
 },
 "nbformat": 4,
 "nbformat_minor": 5
}
